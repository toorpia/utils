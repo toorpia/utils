{
 "cells": [
  {
   "attachments": {},
   "cell_type": "markdown",
   "metadata": {},
   "source": [
    "# toorPIA分析パッケージへ接続してデータ解析するためのサンプルノートブック"
   ]
  },
  {
   "cell_type": "code",
   "execution_count": null,
   "metadata": {},
   "outputs": [],
   "source": [
    "# import library\n",
    "from toorpia_remote_toolkit import *"
   ]
  },
  {
   "cell_type": "code",
   "execution_count": null,
   "metadata": {},
   "outputs": [],
   "source": [
    "# you should set following parameters\n",
    "\n",
    "#--------------------\n",
    "# ssh_user and ssh_host\n",
    "#--------------------\n",
    "ssh_user = \"ubuntu\"\n",
    "ssh_host = \"toorpia-aws\"\n",
    "\n",
    "#--------------------\n",
    "# toorpia_service_dir on the remote host (absolute path)\n",
    "#--------------------\n",
    "toorpia_service_dir = \"/home/ubuntu/toorpia_analysispackage-v2.1.0-beta\"\n",
    "\n",
    "#--------------------\n",
    "# working_dir on toorPIA Analysis Package Environment (should be absolute path)\n",
    "#--------------------\n",
    "working_dir = \"/home/takaeda/samples/sound\"\n",
    "\n",
    "#--------------------\n",
    "# analysis_user on toorPIA Analysis Package Environment (should be UID)\n",
    "#--------------------\n",
    "analysis_user = \"1000\"\n",
    "\n",
    "#--------------------\n",
    "# docker-compose command\n",
    "#--------------------\n",
    "# docker_compose_cmd = \"docker-compose\"  # for older docker-compose\n",
    "docker_compose_cmd = \"docker compose\"\n",
    "\n",
    "#--------------------\n",
    "# initialize toorpia_remote_toolkit instance\n",
    "#--------------------\n",
    "trt = toorpia_remote_toolkit(ssh_user, ssh_host, toorpia_service_dir, docker_compose_cmd, analysis_user, working_dir)"
   ]
  },
  {
   "attachments": {},
   "cell_type": "markdown",
   "metadata": {},
   "source": [
    "## 音・振動データに対する解析例"
   ]
  },
  {
   "cell_type": "code",
   "execution_count": null,
   "metadata": {},
   "outputs": [],
   "source": [
    "# make basemap for sound\n",
    "\n",
    "params = {\n",
    "    'rawdata': working_dir + \"/rawdata/base.csv.gz\",\n",
    "    'window_length': 65536,\n",
    "    'sampling_rate': 44100,\n",
    "}\n",
    "\n",
    "#---------------------------------------\n",
    "# make basemap on remote host\n",
    "#---------------------------------------\n",
    "xbase, ybase = trt.create_basemap(params)"
   ]
  },
  {
   "cell_type": "code",
   "execution_count": null,
   "metadata": {},
   "outputs": [],
   "source": [
    "import matplotlib.pyplot as plt\n",
    "\n",
    "# plot basemap\n",
    "plt.scatter(xbase, ybase)\n",
    "plt.show()"
   ]
  },
  {
   "cell_type": "code",
   "execution_count": null,
   "metadata": {},
   "outputs": [],
   "source": [
    "# make addmap for sound\n",
    "\n",
    "params = {\n",
    "    'rawdata': working_dir + \"/rawdata/addplot.csv.gz\",\n",
    "    'window_length': 65536,\n",
    "    'sampling_rate': 44100,\n",
    "    'rawdata_type': 'sound',\n",
    "}\n",
    "\n",
    "#---------------------------------------\n",
    "# make addplot on remote host\n",
    "#---------------------------------------\n",
    "xadd, yadd = trt.addplot(params)"
   ]
  },
  {
   "cell_type": "code",
   "execution_count": null,
   "metadata": {},
   "outputs": [],
   "source": [
    "import matplotlib.pyplot as plt\n",
    "\n",
    "# plot addplot\n",
    "plt.scatter(xbase, ybase)\n",
    "plt.scatter(xadd, yadd)\n",
    "plt.show()"
   ]
  },
  {
   "attachments": {},
   "cell_type": "markdown",
   "metadata": {},
   "source": [
    "## CSVファイルに対する解析例"
   ]
  },
  {
   "cell_type": "code",
   "execution_count": null,
   "metadata": {},
   "outputs": [],
   "source": [
    "#--------------------\n",
    "# working_dir on toorPIA Analysis Package Environment (should be absolute path)\n",
    "#--------------------\n",
    "working_dir = \"/home/takaeda/samples/csv-simple\"\n",
    "\n",
    "#--------------------\n",
    "# initialize toorpia_remote_toolkit instance\n",
    "#--------------------\n",
    "trt = toorpia_remote_toolkit(ssh_user, ssh_host, toorpia_service_dir, docker_compose_cmd, analysis_user, working_dir)"
   ]
  },
  {
   "cell_type": "code",
   "execution_count": null,
   "metadata": {},
   "outputs": [],
   "source": [
    "# make basemap for CSV\n",
    "\n",
    "params = {\n",
    "    'rawdata': working_dir + \"/rawdata/biopsy.csv\",\n",
    "    'type_weight_csv': working_dir + \"/TypeWeight.csv\",\n",
    "}\n",
    "\n",
    "#---------------------------------------\n",
    "# make basemap on remote host\n",
    "#---------------------------------------\n",
    "xbase, ybase = trt.create_basemap(params)"
   ]
  },
  {
   "cell_type": "code",
   "execution_count": null,
   "metadata": {},
   "outputs": [],
   "source": [
    "# make addplot for CSV\n",
    "\n",
    "params['rawdata'] = working_dir + \"/rawdata/biopsy-add.csv\"\n",
    "\n",
    "#---------------------------------------\n",
    "# make addplot on remote host\n",
    "#---------------------------------------\n",
    "xadd, yadd = trt.addplot(params)"
   ]
  },
  {
   "cell_type": "code",
   "execution_count": null,
   "metadata": {},
   "outputs": [],
   "source": [
    "import matplotlib.pyplot as plt\n",
    "\n",
    "# plot addplot\n",
    "plt.scatter(xbase, ybase)\n",
    "plt.scatter(xadd, yadd)\n",
    "plt.show()"
   ]
  },
  {
   "cell_type": "code",
   "execution_count": null,
   "metadata": {},
   "outputs": [],
   "source": []
  }
 ],
 "metadata": {
  "kernelspec": {
   "display_name": "Python 3",
   "language": "python",
   "name": "python3"
  },
  "language_info": {
   "codemirror_mode": {
    "name": "ipython",
    "version": 3
   },
   "file_extension": ".py",
   "mimetype": "text/x-python",
   "name": "python",
   "nbconvert_exporter": "python",
   "pygments_lexer": "ipython3",
   "version": "3.11.3"
  },
  "orig_nbformat": 4
 },
 "nbformat": 4,
 "nbformat_minor": 2
}
